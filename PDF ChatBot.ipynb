{
 "cells": [
  {
   "cell_type": "code",
   "execution_count": 3,
   "id": "e962c73f-7624-4125-859e-20505c75274c",
   "metadata": {},
   "outputs": [],
   "source": [
    "import os\n",
    "import openai\n",
    "import langchain\n",
    "openai.api_key = ''\n",
    "os.environ['OPENAI_API_KEY'] = ''"
   ]
  },
  {
   "cell_type": "code",
   "execution_count": 4,
   "id": "34f882bf-fb03-4fab-b26b-ac4636b4ac28",
   "metadata": {},
   "outputs": [],
   "source": [
    "from langchain.vectorstores import Chroma\n",
    "from langchain.embeddings.openai import OpenAIEmbeddings\n",
    "persist_directory = 'Chroma/'"
   ]
  },
  {
   "cell_type": "code",
   "execution_count": 16,
   "id": "2492e089-d9e2-4001-a91d-f31676346211",
   "metadata": {},
   "outputs": [],
   "source": [
    "from langchain.document_loaders import PyPDFLoader\n",
    "from langchain.text_splitter import TokenTextSplitter\n",
    "loader = [PyPDFLoader('Book.pdf')]\n",
    "doc = []\n",
    "for i in loader:\n",
    "    doc.extend(i.load())"
   ]
  },
  {
   "cell_type": "code",
   "execution_count": 17,
   "id": "dae8304e-5ed4-423d-9b4c-a7d7923937ac",
   "metadata": {},
   "outputs": [],
   "source": [
    "text_splitter = TokenTextSplitter(\n",
    "    chunk_size = 500,\n",
    "    chunk_overlap =15\n",
    ")"
   ]
  },
  {
   "cell_type": "code",
   "execution_count": 18,
   "id": "0cbff4d7-10e6-4770-afb7-4215738788c9",
   "metadata": {},
   "outputs": [],
   "source": [
    "splits = text_splitter.split_documents(doc)\n",
    "embedding = OpenAIEmbeddings()"
   ]
  },
  {
   "cell_type": "code",
   "execution_count": 19,
   "id": "e9ebb929-c22c-4a4b-b5eb-7dd8f7f02e3a",
   "metadata": {},
   "outputs": [
    {
     "data": {
      "text/plain": [
       "'Preface\\nIntroduction\\nThe History of Bhagavad-gîtå\\nMa∫galåcara√a\\nCHAPTER 1 Sainya-Darçana\\nObserving the Armies on the Battlefield\\nCHAPTER 2 Så∫khya Yoga  \\nThe Yoga of Analysis\\nCHAPTER 3 Karma Yoga  \\nThe Yoga of Action\\nCHAPTER 4 Jñåna Yoga  \\nThe Yoga of Knowledge\\nCHAPTER 5 Karma-Sannyåsa Yoga  \\nThe Yoga of the Renunciation of Action\\nCHAPTER 6 Dhyåna Yoga  \\nThe Yoga of Meditation\\nCHAPTER 7 Jñåna-Vijñåna Yoga\\nThe Yoga of Knowledge and RealisationContents\\nix\\nxi\\nxv\\nxix\\n1\\n25\\n71\\n99\\n133\\n151\\n177'"
      ]
     },
     "execution_count": 19,
     "metadata": {},
     "output_type": "execute_result"
    }
   ],
   "source": [
    "splits[2].page_content"
   ]
  },
  {
   "cell_type": "code",
   "execution_count": 20,
   "id": "e7eb6a8a-f9a9-40e7-a4a1-5680f8926d40",
   "metadata": {},
   "outputs": [
    {
     "data": {
      "text/plain": [
       "1099"
      ]
     },
     "execution_count": 20,
     "metadata": {},
     "output_type": "execute_result"
    }
   ],
   "source": [
    "len(splits)"
   ]
  },
  {
   "cell_type": "code",
   "execution_count": 21,
   "id": "2ee16fe2-f363-42a5-a869-af7481817b48",
   "metadata": {},
   "outputs": [],
   "source": [
    "vectordb = Chroma.from_documents(\n",
    "    documents = splits,\n",
    "    embedding = embedding,\n",
    "    persist_directory = persist_directory\n",
    ")"
   ]
  },
  {
   "cell_type": "code",
   "execution_count": 22,
   "id": "66126fa8-5bcf-44e8-8f93-f80497f292a5",
   "metadata": {},
   "outputs": [],
   "source": [
    "from langchain.chat_models import ChatOpenAI\n",
    "llm_name = \"gpt-3.5-turbo-0301\"\n",
    "llm = ChatOpenAI(model_name=llm_name,temperature=0)"
   ]
  },
  {
   "cell_type": "code",
   "execution_count": 23,
   "id": "9b1d7cf9-acb0-453d-a1e0-a12ffb831daa",
   "metadata": {},
   "outputs": [],
   "source": [
    "from langchain.chains import RetrievalQA"
   ]
  },
  {
   "cell_type": "code",
   "execution_count": 30,
   "id": "5f684723-79ea-444f-ad14-c34947a6f289",
   "metadata": {},
   "outputs": [
    {
     "data": {
      "text/plain": [
       "'Option 2: Lord Krishna did not advise Arjuna to give up in the Bhagavad Gita. Instead, he encouraged him to fulfill his duty as a warrior and not to yield to weakness or unmanliness.'"
      ]
     },
     "execution_count": 30,
     "metadata": {},
     "output_type": "execute_result"
    }
   ],
   "source": [
    "# Build prompt\n",
    "# Run chain\n",
    "from langchain.chains import RetrievalQA\n",
    "question = \"what did lord krishna said to arjun about failure? give your response in the form of a tweet\"\n",
    "q2 = \"what did lord krishna said to arjun about failure choose from one of the following options: option1 is be positive,option 2 is give up. response only with correct option\"\n",
    "qa_chain = RetrievalQA.from_chain_type(llm,\n",
    "                                       retriever=vectordb.as_retriever(),\n",
    "                                       return_source_documents=True,\n",
    "                                      )\n",
    "result = qa_chain({\"query\": q2})\n",
    "result[\"result\"]"
   ]
  },
  {
   "cell_type": "code",
   "execution_count": 31,
   "id": "a4158c2a-9070-44bb-ba26-6739d16d8b32",
   "metadata": {},
   "outputs": [],
   "source": [
    "from langchain.memory import ConversationBufferMemory\n",
    "memory = ConversationBufferMemory(\n",
    "    memory_key=\"chat_history\",\n",
    "    return_messages=True\n",
    ")"
   ]
  },
  {
   "cell_type": "code",
   "execution_count": 32,
   "id": "42e73d90-bae6-45b2-97c3-8d7a3c539bcb",
   "metadata": {},
   "outputs": [],
   "source": [
    "from langchain.chains import ConversationalRetrievalChain\n",
    "retriever=vectordb.as_retriever()\n",
    "qa = ConversationalRetrievalChain.from_llm(\n",
    "    llm,\n",
    "    retriever=retriever,\n",
    "    memory=memory\n",
    ")"
   ]
  },
  {
   "cell_type": "code",
   "execution_count": null,
   "id": "2a151da8-c0d4-4dd7-8c30-1b5cc788e0c5",
   "metadata": {},
   "outputs": [
    {
     "name": "stdin",
     "output_type": "stream",
     "text": [
      "enter prompt who is the main speaker in gita?\n"
     ]
    },
    {
     "name": "stdout",
     "output_type": "stream",
     "text": [
      "The main speaker in the Bhagavad-gita is Lord Krishna.\n"
     ]
    },
    {
     "name": "stdin",
     "output_type": "stream",
     "text": [
      "enter prompt what were we talking about?\n"
     ]
    },
    {
     "name": "stdout",
     "output_type": "stream",
     "text": [
      "The context does not provide information about the current topic of conversation.\n"
     ]
    },
    {
     "name": "stdin",
     "output_type": "stream",
     "text": [
      "enter prompt what did i just ask?\n"
     ]
    },
    {
     "name": "stdout",
     "output_type": "stream",
     "text": [
      "I'm sorry, I did not ask a previous question. Is there anything else I can assist you with?\n"
     ]
    }
   ],
   "source": [
    "while 1>0:\n",
    "    question = input('enter prompt')\n",
    "    output = qa(question)\n",
    "    print(output['answer'])"
   ]
  },
  {
   "cell_type": "code",
   "execution_count": null,
   "id": "cfa0a2df-355d-467a-a922-6179b597f7f7",
   "metadata": {},
   "outputs": [],
   "source": []
  }
 ],
 "metadata": {
  "kernelspec": {
   "display_name": "langchain",
   "language": "python",
   "name": "langchain"
  },
  "language_info": {
   "codemirror_mode": {
    "name": "ipython",
    "version": 3
   },
   "file_extension": ".py",
   "mimetype": "text/x-python",
   "name": "python",
   "nbconvert_exporter": "python",
   "pygments_lexer": "ipython3",
   "version": "3.12.2"
  }
 },
 "nbformat": 4,
 "nbformat_minor": 5
}
